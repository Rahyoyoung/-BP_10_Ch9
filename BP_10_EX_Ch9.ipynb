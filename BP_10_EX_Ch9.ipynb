{
  "nbformat": 4,
  "nbformat_minor": 0,
  "metadata": {
    "colab": {
      "provenance": [],
      "authorship_tag": "ABX9TyPpsOybC3ZXGhJQ3imuO+aF",
      "include_colab_link": true
    },
    "kernelspec": {
      "name": "python3",
      "display_name": "Python 3"
    },
    "language_info": {
      "name": "python"
    }
  },
  "cells": [
    {
      "cell_type": "markdown",
      "metadata": {
        "id": "view-in-github",
        "colab_type": "text"
      },
      "source": [
        "<a href=\"https://colab.research.google.com/github/Rahyoyoung/-BP_10_Ch9/blob/main/BP_10_EX_Ch9.ipynb\" target=\"_parent\"><img src=\"https://colab.research.google.com/assets/colab-badge.svg\" alt=\"Open In Colab\"/></a>"
      ]
    },
    {
      "cell_type": "code",
      "execution_count": null,
      "metadata": {
        "id": "EBSjrRG5wX51"
      },
      "outputs": [],
      "source": [
        "list=[]                               #빈 배열 생성 및 초기화\n",
        "\n",
        "list.append(int(input(\"정수를 입력하시오:\")))\n",
        "list.append(int(input(\"정수를 입력하시오:\")))\n",
        "list.append(int(input(\"정수를 입력하시오:\")))\n",
        "list.append(int(input(\"정수를 입력하시오:\")))\n",
        "list.append(int(input(\"정수를 입력하시오:\")))                            #리스트에 정수 값 추가 / 입력한 요소를 array 맨 끝에 객체로 추가\n",
        "\n",
        "avg= (list[0]+list[1]+list[2]+list[3]+list[4])/len(list)                     #평균을 구하는식\n",
        "\n",
        "print(\"평균=\",avg)                                                       #평균을 프린트"
      ]
    },
    {
      "cell_type": "code",
      "source": [
        "import random\n",
        "counters = [0, 0, 0, 0, 0, 0]            # 리스트 생성\n",
        "for i in range(1000):                 # 반복문 1000번반복\n",
        " value = random.randint(0, 5)           # 0~5까지 무작위 수 지정\n",
        " counters[value] = counters[value] + 1        # 생성된 숫자를 카운트\n",
        "\n",
        "for i in range(6) :\n",
        " print(\"주사위가 \", i+1, \"인 경우는 \", counters[i], \"번\")       #각 배열에 맞는 값 출력"
      ],
      "metadata": {
        "id": "SYiMhvKFx3na"
      },
      "execution_count": null,
      "outputs": []
    },
    {
      "cell_type": "code",
      "source": [
        "contacts={}\n",
        "while True:                                             #무한 루프문\n",
        "    name=input(\"(입력)이름을 입력하시오:\")             #사용자로 부터 문자열(default)로 입력 받음\n",
        "    if not name:                                      #입력 받은 이름이 아니면\n",
        "        who=input(\"(검색)이름을 입력하시오:\")           #누구인지 입력 받음\n",
        "        print(\"전화번호는\",contacts[who],\"입니다\")        #누구인지 저장하고 출력\n",
        "    tel=input(\"전화번호를 입력하시오:\")               #전화번호 입력 받음\n",
        "    contacts[name]=tel                                #이름에 따른 전화번호 저장"
      ],
      "metadata": {
        "id": "oXMLbkGp3RJI"
      },
      "execution_count": null,
      "outputs": []
    },
    {
      "cell_type": "code",
      "source": [
        "import turtle                                    #터틀 라이브러리 불러옴\n",
        "t = turtle.Turtle()\n",
        "\n",
        "def draw(x, y, c):                                 #그리기 함수 생성\n",
        "    for c in [\"red\", \"blue\", \"green\", \"yellow\"]:    # 리스트에 저장된 색이 순서대로 표현\n",
        "        t.goto(x, y)\n",
        "        t.fillcolor(c)\n",
        "        t.begin_fill()\n",
        "        t.fd(100)                                     # 사각형 그리기\n",
        "        t.rt(90)\n",
        "        t.fd(100)\n",
        "        t.rt(90)\n",
        "        t.fd(100)\n",
        "        t.rt(90)\n",
        "        t.fd(100)\n",
        "        t.end_fill()\n",
        "\n",
        "draw(10, 10, 0)                                    #함수 실행 x=10,y=10, c=0"
      ],
      "metadata": {
        "id": "Ljf7sNEk3wYy"
      },
      "execution_count": null,
      "outputs": []
    },
    {
      "cell_type": "code",
      "source": [
        "import turtle                                            # 터틀 라이브러리 불러옴\n",
        "import random                                          # 랜덤 라이브러리 불러옴\n",
        "\n",
        "t = turtle.Turtle()\n",
        "s = turtle.Screen()\n",
        "def draw_shape(t, c, length, sides, x, y):\n",
        "    t.up()\n",
        "    t.goto(x, y)   # 좌표이동\n",
        "    t.down()\n",
        "    t.fillcolor(c)   # 색선정\n",
        "    angle = 360.0 / sides\n",
        "    t.begin_fill()\n",
        "    for dist in range(sides):\n",
        "        t.forward(length)\n",
        "        t.left(angle)\n",
        "    t.end_fill()\n",
        "for i in range(10):\n",
        "   color = random.choice([ 'white', 'yellow', 'blue', 'skyblue', 'orange', 'green' ])   # 색 리스트            \n",
        "   side_length = random.randint(10, 100)\n",
        "   sides = random.randint(3, 10)\n",
        "   x = random.randint(-200, 200)\n",
        "   y = random.randint(-200, 200)\n",
        "   draw_shape(t, color, side_length, sides, x, y)                #함수 실행"
      ],
      "metadata": {
        "id": "6B3_SPCM6jTk"
      },
      "execution_count": null,
      "outputs": []
    },
    {
      "cell_type": "code",
      "source": [
        "import turtle  # 터틀 라이브러리 불러옴\n",
        "import random  # 랜덤 라이브러리 불러옴\n",
        "\n",
        "t = turtle.Turtle()\n",
        "s = turtle.Screen()\n",
        "s.bgcolor(\"black\")\n",
        "\n",
        "c = random.randint(0, 3) #c는 0~3사이 랜덤값\n",
        "\n",
        "def star(color, length, x, y):  # 별 그리기 함수정의\n",
        "    t.penup()\n",
        "    t.goto(x, y)  # 좌표이동\n",
        "    t.pendown()\n",
        "    t.fillcolor(color)  # 색선정\n",
        "    t.begin_fill()\n",
        "    for i in range(5):  #  5번 반복 도형그리기\n",
        "\n",
        "        t.fd(length)\n",
        "        t.rt(144)\n",
        "    t.end_fill()\n",
        "\n",
        "for i in range(10):  # 별10개 그리기\n",
        "    for color in [\"white\", \"yellow\", \"blue\", \"skyblue\", \"orange\", \"green\"]:  # 색 리스트\n",
        "        x = random.randint(1, 200)  # 랜던 좌표및 길이 랜덤으로 지정\n",
        "        y = random.randint(1, 200)\n",
        "        length = random.randint(50, 200)\n",
        "        star(color, length, x, y)  #함수 실행"
      ],
      "metadata": {
        "id": "v1vL4EZK-PrQ"
      },
      "execution_count": null,
      "outputs": []
    },
    {
      "cell_type": "code",
      "source": [
        "domain={\"kr\":\"대한민국\",\"sk\":\"슬로바키아\",\"no\":\"노르웨이\",\"us\":\"미국\",\"jp\":\"일본\",\"de\":\"독일\"} #딕셔너리에 값 지정\n",
        "\n",
        "for k,v in domain.items():\n",
        "\n",
        "    print(k,\":\",v)"
      ],
      "metadata": {
        "id": "qiVDxb5DAAQ_"
      },
      "execution_count": null,
      "outputs": []
    },
    {
      "cell_type": "code",
      "source": [
        "problems={\"파이썬\":\"최근에 가장떠오르는 프로그래밍 언어\",\"변수\":\"데이터를 저장하는 메모리 공간\",\"함수\":\"작업을 수행하는 문장들의 집합에 이름을 붙인 것\",\"리스트\":\"서로 관련이 없는 항목들의 모임\"}\n",
        "#딕셔너리에 값 지정\n",
        "for k,v in problems.items(): #해당 값 추출\n",
        "    print(v)\n",
        "    print(\"다음은 어떤 단어에 대한 설명일까요?\")\n",
        "    print(\"(1)파이썬 (2)함수 (3)리스트 (4)변수\")\n",
        "    ans=input()\n",
        "\n",
        "    if ans==k: #입력 받은 값이 K와 동일하면 정답 출력\n",
        "        print(\"정답입니다!\")\n",
        "\n",
        "    else: #아니면 오답 출력\n",
        "        print(\"틀렸습니다\")"
      ],
      "metadata": {
        "id": "7cCKLdvhAbx3"
      },
      "execution_count": null,
      "outputs": []
    }
  ]
}